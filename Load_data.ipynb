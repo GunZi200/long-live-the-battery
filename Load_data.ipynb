{
 "cells": [
  {
   "cell_type": "code",
   "execution_count": 1,
   "metadata": {},
   "outputs": [],
   "source": [
    "import json\n",
    "import os\n",
    "import tensorflow as tf\n",
    "import trainer.constants as cst\n",
    "from trainer.data_pipeline import create_dataset"
   ]
  },
  {
   "cell_type": "code",
   "execution_count": 2,
   "metadata": {},
   "outputs": [],
   "source": [
    "samples_fullpath = os.path.join('trainer',cst.SAMPLES_DIR)\n",
    "\n",
    "if not os.path.exists(samples_fullpath):\n",
    "    os.makedirs(samples_fullpath)"
   ]
  },
  {
   "cell_type": "code",
   "execution_count": 3,
   "metadata": {},
   "outputs": [],
   "source": [
    "dataset = create_dataset(cst.SECONDARY_TEST_SET,\n",
    "                         window_size=20,\n",
    "                         shift=1,\n",
    "                         stride=1,\n",
    "                         batch_size=1)\n",
    "rows = dataset.take(cst.NUM_SAMPLES)"
   ]
  },
  {
   "cell_type": "code",
   "execution_count": 23,
   "metadata": {},
   "outputs": [],
   "source": [
    "i = 0\n",
    "for example,target in rows.as_numpy_iterator():\n",
    "    sample = {key: str(value.tolist()) for key, value in example.items()}\n",
    "    targets = str(target.tolist())\n",
    "    with open(os.path.join(samples_fullpath, 'sample_input_{}.json'.format(i+1)), 'w') as outfile:\n",
    "        json.dump(sample, outfile)\n",
    "    with open(os.path.join(samples_fullpath, 'target_output_{}.json'.format(i+1)),'w') as outfile:\n",
    "        json.dump(targets,outfile)\n",
    "    i = i+1"
   ]
  },
  {
   "cell_type": "code",
   "execution_count": 9,
   "metadata": {},
   "outputs": [
    {
     "name": "stdout",
     "output_type": "stream",
     "text": [
      "Created 6 sample files in server/static/samples\n"
     ]
    }
   ],
   "source": [
    "print(\"Created {} sample files in trainer/static/samples\".format(cst.NUM_SAMPLES))"
   ]
  },
  {
   "cell_type": "code",
   "execution_count": null,
   "metadata": {},
   "outputs": [],
   "source": []
  },
  {
   "cell_type": "code",
   "execution_count": null,
   "metadata": {},
   "outputs": [],
   "source": []
  },
  {
   "cell_type": "code",
   "execution_count": null,
   "metadata": {},
   "outputs": [],
   "source": []
  },
  {
   "cell_type": "code",
   "execution_count": null,
   "metadata": {},
   "outputs": [],
   "source": []
  },
  {
   "cell_type": "code",
   "execution_count": null,
   "metadata": {},
   "outputs": [],
   "source": []
  },
  {
   "cell_type": "code",
   "execution_count": null,
   "metadata": {},
   "outputs": [],
   "source": []
  }
 ],
 "metadata": {
  "kernelspec": {
   "display_name": "Python 3",
   "language": "python",
   "name": "python3"
  },
  "language_info": {
   "codemirror_mode": {
    "name": "ipython",
    "version": 3
   },
   "file_extension": ".py",
   "mimetype": "text/x-python",
   "name": "python",
   "nbconvert_exporter": "python",
   "pygments_lexer": "ipython3",
   "version": "3.7.6"
  }
 },
 "nbformat": 4,
 "nbformat_minor": 4
}
