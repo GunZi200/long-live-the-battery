{
 "cells": [
  {
   "cell_type": "code",
   "execution_count": 1,
   "metadata": {},
   "outputs": [],
   "source": [
    "import argparse\n",
    "import datetime\n",
    "from os.path import join\n",
    "\n",
    "import tensorflow as tf\n",
    "from absl import logging\n",
    "\n",
    "import trainer.constants as cst\n",
    "import trainer.data_pipeline as dp\n",
    "import trainer.split_model as split_model\n",
    "import trainer.full_cnn_model as full_cnn_model\n",
    "from trainer.callbacks import CustomCheckpoints\n",
    "import trainer.taskalt as tsk"
   ]
  },
  {
   "cell_type": "code",
   "execution_count": 2,
   "metadata": {},
   "outputs": [],
   "source": [
    "args = tsk.get_args()"
   ]
  },
  {
   "cell_type": "code",
   "execution_count": 3,
   "metadata": {},
   "outputs": [],
   "source": [
    "ds_config = dict(window_size=args.window_size,\n",
    "                     shift=args.shift,\n",
    "                     stride=args.stride,\n",
    "                     batch_size=args.batch_size)\n",
    "ds_train_path = args.data_dir_train\n",
    "ds_val_path = args.data_dir_validate"
   ]
  },
  {
   "cell_type": "code",
   "execution_count": 4,
   "metadata": {},
   "outputs": [
    {
     "name": "stdout",
     "output_type": "stream",
     "text": [
      "Using split model!\n",
      "Model: \"model\"\n",
      "__________________________________________________________________________________________________\n",
      "Layer (type)                    Output Shape         Param #     Connected to                     \n",
      "==================================================================================================\n",
      "Qdlin (InputLayer)              [(None, 20, 1000, 1) 0                                            \n",
      "__________________________________________________________________________________________________\n",
      "Tdlin (InputLayer)              [(None, 20, 1000, 1) 0                                            \n",
      "__________________________________________________________________________________________________\n",
      "detail_concat (Concatenate)     (None, 20, 1000, 2)  0           Qdlin[0][0]                      \n",
      "                                                                 Tdlin[0][0]                      \n",
      "__________________________________________________________________________________________________\n",
      "convolution (TimeDistributed)   (None, 20, 334, 32)  608         detail_concat[0][0]              \n",
      "__________________________________________________________________________________________________\n",
      "conv_pool (TimeDistributed)     (None, 20, 167, 32)  0           convolution[0][0]                \n",
      "__________________________________________________________________________________________________\n",
      "conv2 (TimeDistributed)         (None, 20, 56, 64)   18496       conv_pool[0][0]                  \n",
      "__________________________________________________________________________________________________\n",
      "pool2 (TimeDistributed)         (None, 20, 28, 64)   0           conv2[0][0]                      \n",
      "__________________________________________________________________________________________________\n",
      "conv3 (TimeDistributed)         (None, 20, 10, 128)  73856       pool2[0][0]                      \n",
      "__________________________________________________________________________________________________\n",
      "pool3 (TimeDistributed)         (None, 20, 5, 128)   0           conv3[0][0]                      \n",
      "__________________________________________________________________________________________________\n",
      "convolution_flat (TimeDistribut (None, 20, 640)      0           pool3[0][0]                      \n",
      "__________________________________________________________________________________________________\n",
      "dropout_cnn (TimeDistributed)   (None, 20, 640)      0           convolution_flat[0][0]           \n",
      "__________________________________________________________________________________________________\n",
      "IR (InputLayer)                 [(None, 20, 1)]      0                                            \n",
      "__________________________________________________________________________________________________\n",
      "Discharge_time (InputLayer)     [(None, 20, 1)]      0                                            \n",
      "__________________________________________________________________________________________________\n",
      "QD (InputLayer)                 [(None, 20, 1)]      0                                            \n",
      "__________________________________________________________________________________________________\n",
      "all_concat (Concatenate)        (None, 20, 643)      0           dropout_cnn[0][0]                \n",
      "                                                                 IR[0][0]                         \n",
      "                                                                 Discharge_time[0][0]             \n",
      "                                                                 QD[0][0]                         \n",
      "__________________________________________________________________________________________________\n",
      "recurrent (LSTM)                (None, 128)          395264      all_concat[0][0]                 \n",
      "__________________________________________________________________________________________________\n",
      "dropout_lstm (Dropout)          (None, 128)          0           recurrent[0][0]                  \n",
      "__________________________________________________________________________________________________\n",
      "hidden (Dense)                  (None, 32)           4128        dropout_lstm[0][0]               \n",
      "__________________________________________________________________________________________________\n",
      "output (Dense)                  (None, 2)            66          hidden[0][0]                     \n",
      "==================================================================================================\n",
      "Total params: 492,418\n",
      "Trainable params: 492,418\n",
      "Non-trainable params: 0\n",
      "__________________________________________________________________________________________________\n",
      "Train for 168 steps, validate for 186 steps\n",
      "Epoch 1/3\n",
      "168/168 - 39s - loss: 0.0204 - mae_current_cycle: 237.7821 - mae_remaining_cycles: 192.0370 - val_loss: 0.0274 - val_mae_current_cycle: 341.5996 - val_mae_remaining_cycles: 170.3217\n",
      "Epoch 2/3\n",
      "168/168 - 35s - loss: 0.0180 - mae_current_cycle: 224.5071 - mae_remaining_cycles: 152.7043 - val_loss: 0.0294 - val_mae_current_cycle: 343.1813 - val_mae_remaining_cycles: 186.3201\n",
      "Epoch 3/3\n",
      "168/168 - 33s - loss: 0.0179 - mae_current_cycle: 242.0818 - mae_remaining_cycles: 143.2355 - val_loss: 0.0283 - val_mae_current_cycle: 281.1131 - val_mae_remaining_cycles: 188.6614\n",
      "WARNING:tensorflow:From C:\\ProgramData\\Anaconda3\\lib\\site-packages\\tensorflow_core\\python\\ops\\resource_variable_ops.py:1786: calling BaseResourceVariable.__init__ (from tensorflow.python.ops.resource_variable_ops) with constraint is deprecated and will be removed in a future version.\n",
      "Instructions for updating:\n",
      "If using Keras pass *_constraint arguments to layers.\n",
      "INFO:tensorflow:Assets written to: Graph\\jobs\\20200406-211038\\checkpoints\\last_epoch_loss_0.02825019899655574\\assets\n"
     ]
    },
    {
     "data": {
      "text/plain": [
       "(281.1131, 170.32167)"
      ]
     },
     "execution_count": 4,
     "metadata": {},
     "output_type": "execute_result"
    }
   ],
   "source": [
    "tsk.train_and_evaluate(args, tsk.get_tboard_dir(args))"
   ]
  },
  {
   "cell_type": "code",
   "execution_count": 6,
   "metadata": {},
   "outputs": [],
   "source": [
    "ds_test_path = args.data_dir_test"
   ]
  },
  {
   "cell_type": "code",
   "execution_count": 7,
   "metadata": {},
   "outputs": [],
   "source": [
    "dataset_test = dp.create_dataset(data_dir=ds_val_path,\n",
    "                                         window_size=ds_config[\"window_size\"],\n",
    "                                         shift=ds_config[\"shift\"],\n",
    "                                         stride=ds_config[\"stride\"],\n",
    "                                         batch_size=ds_config[\"batch_size\"])"
   ]
  },
  {
   "cell_type": "code",
   "execution_count": 8,
   "metadata": {},
   "outputs": [
    {
     "data": {
      "text/plain": [
       "<RepeatDataset shapes: ({Qdlin: (None, None, 1000, 1), Tdlin: (None, None, 1000, 1), IR: (None, None, 1), Discharge_time: (None, None, 1), QD: (None, None, 1)}, (None, 2)), types: ({Qdlin: tf.float32, Tdlin: tf.float32, IR: tf.float32, Discharge_time: tf.float32, QD: tf.float32}, tf.float32)>"
      ]
     },
     "execution_count": 8,
     "metadata": {},
     "output_type": "execute_result"
    }
   ],
   "source": [
    "dataset_test"
   ]
  },
  {
   "cell_type": "code",
   "execution_count": 9,
   "metadata": {},
   "outputs": [
    {
     "ename": "NameError",
     "evalue": "name 'model' is not defined",
     "output_type": "error",
     "traceback": [
      "\u001b[1;31m---------------------------------------------------------------------------\u001b[0m",
      "\u001b[1;31mNameError\u001b[0m                                 Traceback (most recent call last)",
      "\u001b[1;32m<ipython-input-9-bf82f289d252>\u001b[0m in \u001b[0;36m<module>\u001b[1;34m\u001b[0m\n\u001b[1;32m----> 1\u001b[1;33m \u001b[0mmodel\u001b[0m\u001b[1;33m.\u001b[0m\u001b[0mpredict\u001b[0m\u001b[1;33m(\u001b[0m\u001b[0mdataset_test\u001b[0m\u001b[1;33m)\u001b[0m\u001b[1;33m\u001b[0m\u001b[1;33m\u001b[0m\u001b[0m\n\u001b[0m",
      "\u001b[1;31mNameError\u001b[0m: name 'model' is not defined"
     ]
    }
   ],
   "source": [
    "model.predict(dataset_test)"
   ]
  },
  {
   "cell_type": "code",
   "execution_count": null,
   "metadata": {},
   "outputs": [],
   "source": []
  }
 ],
 "metadata": {
  "kernelspec": {
   "display_name": "Python 3",
   "language": "python",
   "name": "python3"
  },
  "language_info": {
   "codemirror_mode": {
    "name": "ipython",
    "version": 3
   },
   "file_extension": ".py",
   "mimetype": "text/x-python",
   "name": "python",
   "nbconvert_exporter": "python",
   "pygments_lexer": "ipython3",
   "version": "3.7.6"
  }
 },
 "nbformat": 4,
 "nbformat_minor": 4
}
