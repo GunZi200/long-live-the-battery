{
 "cells": [
  {
   "cell_type": "code",
   "execution_count": 7,
   "metadata": {},
   "outputs": [],
   "source": [
    "import numpy as np\n",
    "import matplotlib.pyplot as plt\n",
    "import joblib\n",
    "from pathlib import Path"
   ]
  },
  {
   "cell_type": "code",
   "execution_count": 8,
   "metadata": {},
   "outputs": [],
   "source": [
    "path = Path(\"data/processed_data.pkl\")\n",
    "batch = joblib.load(open(path, 'rb'))\n",
    "\n",
    "\n",
    "\n",
    "#test_ind = np.hstack((np.arange(0,(numBat1+numBat2),2),83))\n",
    "#train_ind = np.arange(1,(numBat1+numBat2-1),2)\n",
    "#secondary_test_ind = np.arange(numBat-numBat3,numBat)"
   ]
  },
  {
   "cell_type": "code",
   "execution_count": 9,
   "metadata": {},
   "outputs": [
    {
     "output_type": "stream",
     "name": "stdout",
     "text": "dict_keys(['b1c3', 'b1c5', 'b1c6', 'b1c7', 'b1c9', 'b1c11', 'b1c14', 'b1c15', 'b1c16', 'b1c17', 'b1c18', 'b1c19', 'b1c20', 'b1c21', 'b1c23', 'b1c24', 'b1c25', 'b1c26', 'b1c27', 'b1c28', 'b1c29', 'b1c30', 'b1c31', 'b1c32', 'b1c33', 'b1c34', 'b1c35', 'b1c36', 'b1c37', 'b1c38', 'b1c39', 'b1c40', 'b1c41', 'b1c42', 'b1c43', 'b1c44', 'b1c45', 'b2c0', 'b2c1', 'b2c2', 'b2c3', 'b2c4', 'b2c5', 'b2c6', 'b2c10', 'b2c11', 'b2c12', 'b2c13', 'b2c14', 'b2c17', 'b2c18', 'b2c19', 'b2c20', 'b2c21', 'b2c22', 'b2c23', 'b2c24', 'b2c25', 'b2c26', 'b2c27', 'b2c28', 'b2c29', 'b2c30', 'b2c31', 'b2c32', 'b2c33', 'b2c34', 'b2c35', 'b2c36', 'b2c37', 'b2c38', 'b2c39', 'b2c40', 'b2c41', 'b2c42', 'b2c43', 'b2c44', 'b2c45', 'b2c46', 'b2c47', 'b3c0', 'b3c1', 'b3c3', 'b3c4', 'b3c5', 'b3c6', 'b3c8', 'b3c9', 'b3c10', 'b3c11', 'b3c12', 'b3c13', 'b3c14', 'b3c15', 'b3c17', 'b3c18', 'b3c19', 'b3c20', 'b3c21', 'b3c22', 'b3c24', 'b3c25', 'b3c26', 'b3c27', 'b3c28', 'b3c29', 'b3c30', 'b3c31', 'b3c33', 'b3c34', 'b3c35', 'b3c36', 'b3c40', 'b3c41', 'b3c43', 'b3c44'])\n"
    }
   ],
   "source": [
    "print(batch.keys())"
   ]
  },
  {
   "cell_type": "code",
   "execution_count": 10,
   "metadata": {},
   "outputs": [],
   "source": [
    "\n",
    "train_ind = ['b1c3', 'b1c5', 'b1c6', 'b1c7', 'b1c9', 'b1c24', 'b1c25', 'b1c26', 'b1c27', 'b1c28', 'b1c34', 'b1c35', 'b1c36', 'b1c37', 'b1c38', 'b1c44', 'b1c45','b2c0', 'b2c1', 'b2c2', 'b2c3', 'b2c4', 'b2c20', 'b2c21', 'b2c22', 'b2c23', 'b2c24', 'b2c25', 'b2c26', 'b2c27', 'b2c28', 'b2c29', 'b2c40', 'b2c41',  'b2c46', 'b2c47', 'b3c0', 'b3c1', 'b3c3', 'b3c4', 'b3c5', 'b3c19', 'b3c20', 'b3c21', 'b3c22', 'b3c24', 'b3c25', 'b3c26', 'b3c27', 'b3c28', 'b3c29', 'b3c30', 'b3c31', 'b3c33', 'b3c34', 'b3c35', 'b3c36', 'b3c40', 'b3c41', 'b3c43', 'b3c44', 'b1c11', 'b1c14', 'b1c15', 'b1c16','b1c18', 'b1c19', 'b1c20', 'b1c21','b2c5', 'b2c6', 'b2c10', 'b2c11', 'b2c12', 'b2c14', 'b2c17', 'b2c18', 'b2c19', 'b2c35']\n",
    "\n",
    "test_ind = ['b1c17', 'b1c29', 'b1c30', 'b1c31', 'b1c32', 'b1c33', 'b2c30', 'b2c31', 'b2c32', 'b2c33', 'b2c34', 'b2c42', 'b2c43', 'b3c6', 'b3c8', 'b3c9', 'b3c10', 'b3c11', 'b3c12']\n",
    "\n",
    "validation_ind = ['b1c23', 'b1c39', 'b1c40', 'b1c41', 'b1c42', 'b1c43', 'b2c13', 'b2c36', 'b2c37', 'b2c38', 'b2c39', 'b2c44', 'b2c45', 'b3c13', 'b3c14', 'b3c15', 'b3c17', 'b3c18']"
   ]
  },
  {
   "cell_type": "code",
   "execution_count": 11,
   "metadata": {},
   "outputs": [],
   "source": [
    "mydict = {\n",
    "    \"train\" : train_ind,\n",
    "    \"test\" : test_ind,\n",
    "    \"secondary_test\" : validation_ind\n",
    "}\n"
   ]
  },
  {
   "cell_type": "code",
   "execution_count": 12,
   "metadata": {},
   "outputs": [],
   "source": [
    "\n",
    "with open('train_test_split.pkl', 'wb') as f:\n",
    "        joblib.dump(mydict, f)"
   ]
  },
  {
   "cell_type": "code",
   "execution_count": null,
   "metadata": {},
   "outputs": [],
   "source": []
  }
 ],
 "metadata": {
  "language_info": {
   "codemirror_mode": {
    "name": "ipython",
    "version": 3
   },
   "file_extension": ".py",
   "mimetype": "text/x-python",
   "name": "python",
   "nbconvert_exporter": "python",
   "pygments_lexer": "ipython3",
   "version": "3.7.7-final"
  },
  "orig_nbformat": 2,
  "kernelspec": {
   "name": "python37764bitbatteriescondab27e0aa2185b4a5caa26ff8a6a332f36",
   "display_name": "Python 3.7.7 64-bit ('batteries': conda)"
  }
 },
 "nbformat": 4,
 "nbformat_minor": 2
}